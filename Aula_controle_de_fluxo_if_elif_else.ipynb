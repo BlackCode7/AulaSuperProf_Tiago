{
  "nbformat": 4,
  "nbformat_minor": 0,
  "metadata": {
    "colab": {
      "name": "Untitled0.ipynb",
      "provenance": [],
      "authorship_tag": "ABX9TyNop3+y/vEJFfZhTTVo3Nww",
      "include_colab_link": true
    },
    "kernelspec": {
      "name": "python3",
      "display_name": "Python 3"
    },
    "language_info": {
      "name": "python"
    }
  },
  "cells": [
    {
      "cell_type": "markdown",
      "metadata": {
        "id": "view-in-github",
        "colab_type": "text"
      },
      "source": [
        "<a href=\"https://colab.research.google.com/github/BlackCode7/AulaSuperProf_Tiago/blob/main/Aula_controle_de_fluxo_if_elif_else.ipynb\" target=\"_parent\"><img src=\"https://colab.research.google.com/assets/colab-badge.svg\" alt=\"Open In Colab\"/></a>"
      ]
    },
    {
      "cell_type": "code",
      "metadata": {
        "id": "ACB_LAqpi3Ai"
      },
      "source": [
        "numero = 23"
      ],
      "execution_count": 4,
      "outputs": []
    },
    {
      "cell_type": "code",
      "metadata": {
        "colab": {
          "base_uri": "https://localhost:8080/"
        },
        "id": "ulCnB7O1knrM",
        "outputId": "bfafc3d4-1d0d-4e94-e211-e3f72f7b4dcb"
      },
      "source": [
        "numero == 23"
      ],
      "execution_count": 5,
      "outputs": [
        {
          "output_type": "execute_result",
          "data": {
            "text/plain": [
              "True"
            ]
          },
          "metadata": {
            "tags": []
          },
          "execution_count": 5
        }
      ]
    },
    {
      "cell_type": "code",
      "metadata": {
        "colab": {
          "base_uri": "https://localhost:8080/"
        },
        "id": "vFxcGGI7k4IE",
        "outputId": "7d2adf79-3c1a-4335-c855-6a00112b9598"
      },
      "source": [
        "numero != 23"
      ],
      "execution_count": 6,
      "outputs": [
        {
          "output_type": "execute_result",
          "data": {
            "text/plain": [
              "False"
            ]
          },
          "metadata": {
            "tags": []
          },
          "execution_count": 6
        }
      ]
    },
    {
      "cell_type": "code",
      "metadata": {
        "colab": {
          "base_uri": "https://localhost:8080/"
        },
        "id": "JKgRiRFclDPd",
        "outputId": "a0211fa5-43db-4741-a2a6-197eaf69d4c6"
      },
      "source": [
        "numero < 50"
      ],
      "execution_count": 7,
      "outputs": [
        {
          "output_type": "execute_result",
          "data": {
            "text/plain": [
              "True"
            ]
          },
          "metadata": {
            "tags": []
          },
          "execution_count": 7
        }
      ]
    },
    {
      "cell_type": "code",
      "metadata": {
        "colab": {
          "base_uri": "https://localhost:8080/"
        },
        "id": "jjvGNki6lM93",
        "outputId": "505d01c7-07e9-4aaa-c652-9653af4e2bb3"
      },
      "source": [
        "numero > 50"
      ],
      "execution_count": 8,
      "outputs": [
        {
          "output_type": "execute_result",
          "data": {
            "text/plain": [
              "False"
            ]
          },
          "metadata": {
            "tags": []
          },
          "execution_count": 8
        }
      ]
    },
    {
      "cell_type": "code",
      "metadata": {
        "colab": {
          "base_uri": "https://localhost:8080/"
        },
        "id": "wXrQhSBPlRq2",
        "outputId": "56eaf3db-7791-463b-8911-3413e1c72f2c"
      },
      "source": [
        "numero <= 50"
      ],
      "execution_count": 9,
      "outputs": [
        {
          "output_type": "execute_result",
          "data": {
            "text/plain": [
              "True"
            ]
          },
          "metadata": {
            "tags": []
          },
          "execution_count": 9
        }
      ]
    },
    {
      "cell_type": "code",
      "metadata": {
        "colab": {
          "base_uri": "https://localhost:8080/"
        },
        "id": "7ofPlKmflecE",
        "outputId": "43349685-121f-46fc-bdcf-29cbce5a046f"
      },
      "source": [
        "numero >= 50"
      ],
      "execution_count": 11,
      "outputs": [
        {
          "output_type": "execute_result",
          "data": {
            "text/plain": [
              "False"
            ]
          },
          "metadata": {
            "tags": []
          },
          "execution_count": 11
        }
      ]
    },
    {
      "cell_type": "markdown",
      "metadata": {
        "id": "VOgtZmtfltDj"
      },
      "source": [
        "# Fluxo de controles no python \n",
        "É a capacidade que todo programa tem de decidir qual código executar primeiro "
      ]
    },
    {
      "cell_type": "markdown",
      "metadata": {
        "id": "6AZtljyhmJ6_"
      },
      "source": [
        "Controle de fluxo em python\n",
        ">>> if\n",
        ">>> elif\n",
        ">>> else\n",
        ">>> for \n",
        ">>> while"
      ]
    },
    {
      "cell_type": "code",
      "metadata": {
        "colab": {
          "base_uri": "https://localhost:8080/"
        },
        "id": "CM_U8CEcm502",
        "outputId": "a0bb667f-1b84-44f7-a3dd-a75457523856"
      },
      "source": [
        "numero = 23\n",
        "\n",
        "# condiçaõ 1\n",
        "if numero > 10:\n",
        "    print(\"Este numero é maior de 10\")\n",
        "# condição 2\n",
        "else:\n",
        "    print(\"Numero menor que 23\")\n",
        "    "
      ],
      "execution_count": 12,
      "outputs": [
        {
          "output_type": "stream",
          "text": [
            "Este numero é maior de 10\n"
          ],
          "name": "stdout"
        }
      ]
    },
    {
      "cell_type": "code",
      "metadata": {
        "id": "XTTrbeQLoGTR"
      },
      "source": [
        "# Fábrica de carros lataria / motor / rodas\n",
        "\n",
        "1 - lataria\n",
        "    1 - fabricar peças da lataria\n",
        "    2 - fabricar parafusos\n",
        "    3 - pintura da lataria\n",
        "\n",
        "2 - motor\n",
        "    1 - fabricalçao de peças\n",
        "    2 - colocação de parafusos\n",
        "    3 -  montagem das peças\n",
        "    4 - montagem do reservatório\n",
        "\n",
        "3 - rodas\n",
        "    1 - modar as rodas\n",
        "    2 -  colocar frisos\n",
        "    3 - teste de durabulidade"
      ],
      "execution_count": null,
      "outputs": []
    },
    {
      "cell_type": "code",
      "metadata": {
        "colab": {
          "base_uri": "https://localhost:8080/"
        },
        "id": "Ia6Ykc-NpVyO",
        "outputId": "082cf174-37ab-4dee-acb5-8c5533ad731e"
      },
      "source": [
        "# in / not / end \n",
        "numero = [1,2,3,7,10]\n",
        "\n",
        "if 1 in numero:\n",
        "    if True:\n",
        "        # Código aninhado, identação aninhada\n",
        "        if True:\n",
        "            numero_1 = 1+1\n",
        "            print(numero_1)\n",
        "        else:\n",
        "            print(\"Este numero não esta na lista\")\n",
        "        numero_1 = 1+1\n",
        "        print(numero_1)        \n",
        "    else:\n",
        "        print(\"Este numero não esta na lista\")\n",
        "\n",
        "elif 12 in numero:\n",
        "    numero_2 = 2+2\n",
        "    print(numero_2)\n",
        "elif 13 in numero:\n",
        "    numero_3 = 3+3\n",
        "    print(numero_3)\n",
        "else:\n",
        "    print(\"Este numero não esta contido na lista\")"
      ],
      "execution_count": 27,
      "outputs": [
        {
          "output_type": "stream",
          "text": [
            "2\n",
            "2\n"
          ],
          "name": "stdout"
        }
      ]
    },
    {
      "cell_type": "code",
      "metadata": {
        "id": "e5FAAF-Bx1xP"
      },
      "source": [
        ""
      ],
      "execution_count": null,
      "outputs": []
    },
    {
      "cell_type": "markdown",
      "metadata": {
        "id": "G4m1UHazu6ZS"
      },
      "source": [
        "# Tiago no Python"
      ]
    },
    {
      "cell_type": "code",
      "metadata": {
        "colab": {
          "base_uri": "https://localhost:8080/"
        },
        "id": "2mgcxtacvArL",
        "outputId": "774fed36-d9c0-46ed-987d-723388c0b8b6"
      },
      "source": [
        "idade = [5, 10, 12, 18]\n",
        "idades_permitidas = 18\n",
        "\n",
        "if idades_permitidas in idade:\n",
        "    if 18 in idade:\n",
        "        print(\"Ok, você maior de 18 pode entrar os outros não!\")\n",
        "    print(\"Vocês querem entrar em uma festa proíbida para menores de 18!\")\n",
        "\n",
        "else:\n",
        "    print(\"não permitido\")"
      ],
      "execution_count": 36,
      "outputs": [
        {
          "output_type": "stream",
          "text": [
            "Ok, você maior de 18 pode entrar os outros não!\n",
            "Vocês querem entrar em uma festa proíbida para menores de 18!\n"
          ],
          "name": "stdout"
        }
      ]
    },
    {
      "cell_type": "markdown",
      "metadata": {
        "id": "RFvxK1Ix3f5Z"
      },
      "source": [
        "# for / while"
      ]
    },
    {
      "cell_type": "markdown",
      "metadata": {
        "id": "USSwWdZt5QLP"
      },
      "source": [
        "# Funções do python para revisar\n",
        "\n",
        "1 - print()\n",
        "2 - len()\n",
        "3 - input()\n",
        "4 - int()\n",
        "5 - float()\n",
        "6 - str()\n",
        "7 - type()\n",
        "8 - map()\n",
        "9 - reduce()\n",
        "10 - range()\n",
        "\n",
        "## Trazer um pequeno resumo das funçoes em python >>> próxima aula"
      ]
    }
  ]
}