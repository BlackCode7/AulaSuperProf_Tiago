{
  "nbformat": 4,
  "nbformat_minor": 0,
  "metadata": {
    "colab": {
      "name": "Untitled1.ipynb",
      "provenance": [],
      "authorship_tag": "ABX9TyM8QSrQdnBqGa4kyahIsv58",
      "include_colab_link": true
    },
    "kernelspec": {
      "name": "python3",
      "display_name": "Python 3"
    },
    "language_info": {
      "name": "python"
    }
  },
  "cells": [
    {
      "cell_type": "markdown",
      "metadata": {
        "id": "view-in-github",
        "colab_type": "text"
      },
      "source": [
        "<a href=\"https://colab.research.google.com/github/BlackCode7/AulaSuperProf_Tiago/blob/main/relembrandoAppendPython.ipynb\" target=\"_parent\"><img src=\"https://colab.research.google.com/assets/colab-badge.svg\" alt=\"Open In Colab\"/></a>"
      ]
    },
    {
      "cell_type": "code",
      "metadata": {
        "id": "kPbi864A3wlo"
      },
      "source": [
        "cubos = [1,3,4,8,10,11]\n",
        "letras = [\"ads\", \"perna\", \"braço\"]"
      ],
      "execution_count": 6,
      "outputs": []
    },
    {
      "cell_type": "code",
      "metadata": {
        "colab": {
          "base_uri": "https://localhost:8080/"
        },
        "id": "QnG12et43_AO",
        "outputId": "8b0ab0f6-f451-4007-a448-1a8f8410cbed"
      },
      "source": [
        "if 1 or 3 or 4 or 8 or 10 in cubos:\n",
        "    cubos.append(letras)\n",
        "    print(cubos)\n",
        "else:\n",
        "    print(len(cubos))\n"
      ],
      "execution_count": 7,
      "outputs": [
        {
          "output_type": "stream",
          "text": [
            "[1, 3, 4, 8, 10, 11, ['ads', 'perna', 'braço']]\n"
          ],
          "name": "stdout"
        }
      ]
    },
    {
      "cell_type": "code",
      "metadata": {
        "colab": {
          "base_uri": "https://localhost:8080/"
        },
        "id": "41OhT7Bs4DmM",
        "outputId": "d7d72ac3-32c7-41c4-c732-11072e626a94"
      },
      "source": [
        "print(cubos)"
      ],
      "execution_count": 3,
      "outputs": [
        {
          "output_type": "stream",
          "text": [
            "[1, 3, 4, 8, 10, ['ads', 'perna', 'braço']]\n"
          ],
          "name": "stdout"
        }
      ]
    }
  ]
}