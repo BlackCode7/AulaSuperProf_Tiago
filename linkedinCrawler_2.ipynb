{
  "nbformat": 4,
  "nbformat_minor": 0,
  "metadata": {
    "colab": {
      "name": "Untitled3.ipynb",
      "provenance": [],
      "authorship_tag": "ABX9TyMyCZ19BXRdSJqo6N6713X0",
      "include_colab_link": true
    },
    "kernelspec": {
      "name": "python3",
      "display_name": "Python 3"
    },
    "language_info": {
      "name": "python"
    }
  },
  "cells": [
    {
      "cell_type": "markdown",
      "metadata": {
        "id": "view-in-github",
        "colab_type": "text"
      },
      "source": [
        "<a href=\"https://colab.research.google.com/github/BlackCode7/AulaSuperProf_Tiago/blob/main/linkedinCrawler_2.ipynb\" target=\"_parent\"><img src=\"https://colab.research.google.com/assets/colab-badge.svg\" alt=\"Open In Colab\"/></a>"
      ]
    },
    {
      "cell_type": "code",
      "metadata": {
        "id": "FvW0IXbGL2Ko"
      },
      "source": [
        "import string\n",
        "import random\n",
        "import requests\n",
        "import json"
      ],
      "execution_count": 33,
      "outputs": []
    },
    {
      "cell_type": "code",
      "metadata": {
        "id": "2BdQ98JWMjuh"
      },
      "source": [
        "CLIENT_ID = '77dtu984h3u2mh'\n",
        "CLIENT_SECRET = 'uraq98n1Zyuy6KWk'\n",
        "REDIRECT_URL = 'http://localhost:8000'\n",
        "#REDIRECT_URL = 'http://127.0.0.1:8000'"
      ],
      "execution_count": 34,
      "outputs": []
    },
    {
      "cell_type": "code",
      "metadata": {
        "id": "qHGgS3F1NjOY",
        "outputId": "069f2a0c-4327-48e2-9915-140babb389ef",
        "colab": {
          "base_uri": "https://localhost:8080/",
          "height": 36
        }
      },
      "source": [
        "# criando letras aleatórias para para garantir a segurança da aplicação\n",
        "letras = string.ascii_lowercase\n",
        "letras"
      ],
      "execution_count": 35,
      "outputs": [
        {
          "output_type": "execute_result",
          "data": {
            "application/vnd.google.colaboratory.intrinsic+json": {
              "type": "string"
            },
            "text/plain": [
              "'abcdefghijklmnopqrstuvwxyz'"
            ]
          },
          "metadata": {
            "tags": []
          },
          "execution_count": 35
        }
      ]
    },
    {
      "cell_type": "code",
      "metadata": {
        "id": "anNTFLYPN18g",
        "outputId": "41578237-201f-4759-8fda-17eba87cac95",
        "colab": {
          "base_uri": "https://localhost:8080/",
          "height": 36
        }
      },
      "source": [
        "random.choice(letras)"
      ],
      "execution_count": 36,
      "outputs": [
        {
          "output_type": "execute_result",
          "data": {
            "application/vnd.google.colaboratory.intrinsic+json": {
              "type": "string"
            },
            "text/plain": [
              "'k'"
            ]
          },
          "metadata": {
            "tags": []
          },
          "execution_count": 36
        }
      ]
    },
    {
      "cell_type": "code",
      "metadata": {
        "id": "1CK5h0FnORq0",
        "outputId": "80753669-9403-48fe-c1d1-22b1ea2a48cd",
        "colab": {
          "base_uri": "https://localhost:8080/",
          "height": 36
        }
      },
      "source": [
        "# criando um csrf token com 24 letras numa expressão lambda\n",
        "CSRF_TOKEN = ''.join(random.choice(letras) for i in range(24))\n",
        "CSRF_TOKEN"
      ],
      "execution_count": 37,
      "outputs": [
        {
          "output_type": "execute_result",
          "data": {
            "application/vnd.google.colaboratory.intrinsic+json": {
              "type": "string"
            },
            "text/plain": [
              "'kphuuncjzskcyhpdqzkclmxv'"
            ]
          },
          "metadata": {
            "tags": []
          },
          "execution_count": 37
        }
      ]
    },
    {
      "cell_type": "code",
      "metadata": {
        "id": "L6_Jlxj3OzmR",
        "outputId": "8a95da4f-4b1f-4c75-ba02-8b97aa3c0c63",
        "colab": {
          "base_uri": "https://localhost:8080/"
        }
      },
      "source": [
        "len(CSRF_TOKEN)"
      ],
      "execution_count": 38,
      "outputs": [
        {
          "output_type": "execute_result",
          "data": {
            "text/plain": [
              "24"
            ]
          },
          "metadata": {
            "tags": []
          },
          "execution_count": 38
        }
      ]
    },
    {
      "cell_type": "code",
      "metadata": {
        "id": "-EOmOYJ1PH80"
      },
      "source": [
        "# link para consulta da documentação\n",
        "# https://docs.microsoft.com/en-us/linkedin/\n",
        "# parametros de conexão com linkedin\n",
        "auth_params = {\n",
        "    'response_type': 'code',\n",
        "    'client_id': CLIENT_ID,\n",
        "    'redirect_uri': REDIRECT_URL,\n",
        "    'state': CSRF_TOKEN,\n",
        "    'scope':'r_liteprofile, r_emailaddress, w_member_social'}"
      ],
      "execution_count": 39,
      "outputs": []
    },
    {
      "cell_type": "code",
      "metadata": {
        "id": "A9Ww5fUxQJjc",
        "outputId": "ee01156c-d546-493f-d4ed-b0f99d64fc23",
        "colab": {
          "base_uri": "https://localhost:8080/",
          "height": 73
        }
      },
      "source": [
        "html = requests.get('https://www.linkedin.com/oauth/v2/authorization', params=auth_params)\n",
        "\n",
        "html.url"
      ],
      "execution_count": 40,
      "outputs": [
        {
          "output_type": "execute_result",
          "data": {
            "application/vnd.google.colaboratory.intrinsic+json": {
              "type": "string"
            },
            "text/plain": [
              "'https://www.linkedin.com/oauth/v2/authorization?response_type=code&client_id=77dtu984h3u2mh&redirect_uri=http%3A%2F%2Flocalhost%3A8000&state=kphuuncjzskcyhpdqzkclmxv&scope=r_liteprofile%2C+r_emailaddress%2C+w_member_social'"
            ]
          },
          "metadata": {
            "tags": []
          },
          "execution_count": 40
        }
      ]
    }
  ]
}