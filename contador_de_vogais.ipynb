{
  "nbformat": 4,
  "nbformat_minor": 0,
  "metadata": {
    "colab": {
      "name": "contador de vogais.ipynb",
      "provenance": [],
      "authorship_tag": "ABX9TyMhtnQYhSyufNr56Pb6UKan",
      "include_colab_link": true
    },
    "kernelspec": {
      "name": "python3",
      "display_name": "Python 3"
    },
    "language_info": {
      "name": "python"
    }
  },
  "cells": [
    {
      "cell_type": "markdown",
      "metadata": {
        "id": "view-in-github",
        "colab_type": "text"
      },
      "source": [
        "<a href=\"https://colab.research.google.com/github/BlackCode7/AulaSuperProf_Tiago/blob/main/contador_de_vogais.ipynb\" target=\"_parent\"><img src=\"https://colab.research.google.com/assets/colab-badge.svg\" alt=\"Open In Colab\"/></a>"
      ]
    },
    {
      "cell_type": "code",
      "metadata": {
        "colab": {
          "base_uri": "https://localhost:8080/"
        },
        "id": "0mdyWJSl5hYV",
        "outputId": "0ae2af45-7ba4-4839-ca58-8380473e3eef"
      },
      "source": [
        "vowels = ['a','e','i','o','u']\n",
        "word = input(\"digite uma palavra: \")\n",
        "found = []\n",
        "for letter in word:\n",
        "    if letter in vowels:\n",
        "        if letter not in found:\n",
        "            found.append(letter)\n",
        "for vowel in found:\n",
        "    print(vowel)\n",
        "\n"
      ],
      "execution_count": 1,
      "outputs": [
        {
          "output_type": "stream",
          "text": [
            "digite uma palavra: carlos andrade lima\n",
            "a\n",
            "o\n",
            "e\n",
            "i\n"
          ],
          "name": "stdout"
        }
      ]
    }
  ]
}